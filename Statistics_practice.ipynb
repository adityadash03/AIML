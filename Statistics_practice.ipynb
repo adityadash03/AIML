{
  "nbformat": 4,
  "nbformat_minor": 0,
  "metadata": {
    "colab": {
      "provenance": [],
      "authorship_tag": "ABX9TyMhbVYgEf9JUQ7abWhq0t2H",
      "include_colab_link": true
    },
    "kernelspec": {
      "name": "python3",
      "display_name": "Python 3"
    },
    "language_info": {
      "name": "python"
    }
  },
  "cells": [
    {
      "cell_type": "markdown",
      "metadata": {
        "id": "view-in-github",
        "colab_type": "text"
      },
      "source": [
        "<a href=\"https://colab.research.google.com/github/adityadash03/AIML/blob/main/Statistics_practice.ipynb\" target=\"_parent\"><img src=\"https://colab.research.google.com/assets/colab-badge.svg\" alt=\"Open In Colab\"/></a>"
      ]
    },
    {
      "cell_type": "code",
      "execution_count": 3,
      "metadata": {
        "id": "3QYxTIsRNA8q"
      },
      "outputs": [],
      "source": [
        "import numpy as np\n",
        "import matplotlib.pyplot as plt\n",
        "%matplotlib inline\n"
      ]
    },
    {
      "cell_type": "code",
      "source": [
        "## Define dataset\n",
        "dataset = [11,12,10,14,12,13,15,16,12,17,15,18,13,108,15,16,11,13,19,15,17,16,14,19,15,16,18,102,10,15,12,16]"
      ],
      "metadata": {
        "id": "DhnEFZD_OZbQ"
      },
      "execution_count": 4,
      "outputs": []
    },
    {
      "cell_type": "code",
      "source": [
        "## Function to find outliers\n",
        "outliers = []\n",
        "def detect_outliers(data):\n",
        "  threshhold = 3\n",
        "  mean = np.mean(data)\n",
        "  sd = np.std(data)\n",
        "\n",
        "  for i in data:\n",
        "    z_score = (i-mean)/sd\n",
        "    if(np.abs(z_score) > threshhold):\n",
        "      outliers.append(i)\n",
        "\n",
        "  return outliers\n",
        "\n",
        "\n"
      ],
      "metadata": {
        "id": "A-AgLz9qPJia"
      },
      "execution_count": 5,
      "outputs": []
    },
    {
      "cell_type": "code",
      "source": [
        "detect_outliers(dataset)"
      ],
      "metadata": {
        "colab": {
          "base_uri": "https://localhost:8080/"
        },
        "id": "3GKJsJnJS0wu",
        "outputId": "ce9bf580-b5e5-4477-bf6b-4e2c71f58c1b"
      },
      "execution_count": 6,
      "outputs": [
        {
          "output_type": "execute_result",
          "data": {
            "text/plain": [
              "[108, 102]"
            ]
          },
          "metadata": {},
          "execution_count": 6
        }
      ]
    },
    {
      "cell_type": "markdown",
      "source": [
        "## IQR\n",
        "1. Sort data\n",
        "2. Calculate Q1 and Q3\n",
        "3. IQR = (Q3-Q1)\n",
        "4. Find the lower fence (q1-1.5IQR)\n",
        "5. Find upper fence (q3+1.5iqr)bold text"
      ],
      "metadata": {
        "id": "bXTUxfoeW_vN"
      }
    },
    {
      "cell_type": "code",
      "source": [
        "dataset = sorted(dataset)\n",
        "dataset"
      ],
      "metadata": {
        "colab": {
          "base_uri": "https://localhost:8080/"
        },
        "id": "22B_63FsWlwz",
        "outputId": "ba3ba6fc-56d4-4b8c-f694-6aa9be5d0170"
      },
      "execution_count": 9,
      "outputs": [
        {
          "output_type": "execute_result",
          "data": {
            "text/plain": [
              "[10,\n",
              " 10,\n",
              " 11,\n",
              " 11,\n",
              " 12,\n",
              " 12,\n",
              " 12,\n",
              " 12,\n",
              " 13,\n",
              " 13,\n",
              " 13,\n",
              " 14,\n",
              " 14,\n",
              " 15,\n",
              " 15,\n",
              " 15,\n",
              " 15,\n",
              " 15,\n",
              " 15,\n",
              " 16,\n",
              " 16,\n",
              " 16,\n",
              " 16,\n",
              " 16,\n",
              " 17,\n",
              " 17,\n",
              " 18,\n",
              " 18,\n",
              " 19,\n",
              " 19,\n",
              " 102,\n",
              " 108]"
            ]
          },
          "metadata": {},
          "execution_count": 9
        }
      ]
    },
    {
      "cell_type": "code",
      "source": [
        "q1,q3 = np.percentile(dataset,[25,75])\n",
        "\n",
        "print(q1,q3)"
      ],
      "metadata": {
        "colab": {
          "base_uri": "https://localhost:8080/"
        },
        "id": "IUmfYljDXm5z",
        "outputId": "3fc403af-3d10-4917-c472-0a7d684821d7"
      },
      "execution_count": 7,
      "outputs": [
        {
          "output_type": "stream",
          "name": "stdout",
          "text": [
            "12.75 16.25\n"
          ]
        }
      ]
    },
    {
      "cell_type": "code",
      "source": [
        "iqr = q3-q1\n",
        "print(iqr)"
      ],
      "metadata": {
        "colab": {
          "base_uri": "https://localhost:8080/"
        },
        "id": "52tHKH5WYDIW",
        "outputId": "c24eadc2-b5ad-4a10-bdb8-18a3ba6ae05a"
      },
      "execution_count": 8,
      "outputs": [
        {
          "output_type": "stream",
          "name": "stdout",
          "text": [
            "3.5\n"
          ]
        }
      ]
    },
    {
      "cell_type": "markdown",
      "source": [],
      "metadata": {
        "id": "rDvqlugjnXYw"
      }
    },
    {
      "cell_type": "markdown",
      "source": [],
      "metadata": {
        "id": "wP4NZj3pnXU5"
      }
    },
    {
      "cell_type": "code",
      "source": [
        "## Find Lowerfence and Higher Fence\n",
        "lower_fence = q1 - (1.5 * q1)\n",
        "higher_fence = q3+(1.5 * q3)\n",
        "\n",
        "print(lower_fence,higher_fence)"
      ],
      "metadata": {
        "colab": {
          "base_uri": "https://localhost:8080/"
        },
        "id": "5zL6DrKxX7GD",
        "outputId": "9d73973d-f42d-4e7b-9afc-88725471bbb6"
      },
      "execution_count": 9,
      "outputs": [
        {
          "output_type": "stream",
          "name": "stdout",
          "text": [
            "-6.375 40.625\n"
          ]
        }
      ]
    },
    {
      "cell_type": "code",
      "source": [
        "import seaborn as sns\n",
        "\n",
        "sns.boxplot(dataset)"
      ],
      "metadata": {
        "colab": {
          "base_uri": "https://localhost:8080/",
          "height": 447
        },
        "id": "i7hluBkloCA_",
        "outputId": "93ee1a8a-f787-44cc-a711-9de6c504a08c"
      },
      "execution_count": 11,
      "outputs": [
        {
          "output_type": "execute_result",
          "data": {
            "text/plain": [
              "<Axes: >"
            ]
          },
          "metadata": {},
          "execution_count": 11
        },
        {
          "output_type": "display_data",
          "data": {
            "text/plain": [
              "<Figure size 640x480 with 1 Axes>"
            ],
            "image/png": "[encoded data removed]"
          },
          "metadata": {}
        }
      ]
    }
  ]
}